{
  "nbformat": 4,
  "nbformat_minor": 0,
  "metadata": {
    "colab": {
      "provenance": [],
      "include_colab_link": true
    },
    "kernelspec": {
      "name": "python3",
      "display_name": "Python 3"
    },
    "language_info": {
      "name": "python"
    }
  },
  "cells": [
    {
      "cell_type": "markdown",
      "metadata": {
        "id": "view-in-github",
        "colab_type": "text"
      },
      "source": [
        "<a href=\"https://colab.research.google.com/github/Adi09Kumar/Image-Super-Resolution/blob/main/Single_Image_Super_Resolution.ipynb\" target=\"_parent\"><img src=\"https://colab.research.google.com/assets/colab-badge.svg\" alt=\"Open In Colab\"/></a>"
      ]
    },
    {
      "cell_type": "markdown",
      "source": [
        "We need to run some boilerplate code similar to the Homework Assignment, run each time when running code\n",
        "\n",
        " Run this cell load the autoreload extension. This allows us to edit .py source files, and re-import them into the notebook for a seamless editing and debugging experience."
      ],
      "metadata": {
        "id": "TnIUdSWtTMFU"
      }
    },
    {
      "cell_type": "code",
      "execution_count": null,
      "metadata": {
        "id": "JPTr3FM9SwXC"
      },
      "outputs": [],
      "source": [
        "%load_ext autoreload\n",
        "%autoreload 2"
      ]
    },
    {
      "cell_type": "markdown",
      "source": [
        "Mounting Google Drive"
      ],
      "metadata": {
        "id": "m99vzT8ATdYL"
      }
    },
    {
      "cell_type": "code",
      "source": [
        "from google.colab import drive\n",
        "drive.mount('/content/drive')"
      ],
      "metadata": {
        "colab": {
          "base_uri": "https://localhost:8080/"
        },
        "id": "xvAjmEdsTiJ-",
        "outputId": "cdc84031-e757-4fad-90cc-3e06e5c752c4"
      },
      "execution_count": null,
      "outputs": [
        {
          "output_type": "stream",
          "name": "stdout",
          "text": [
            "Mounted at /content/drive\n"
          ]
        }
      ]
    },
    {
      "cell_type": "code",
      "source": [
        "import os\n",
        "import sys\n",
        "\n",
        "GOOGLE_DRIVE_PATH_AFTER_MYDRIVE = '/content/drive/MyDrive/Computer Vision/CV Projects/Single Image Super Resolution'\n",
        "GOOGLE_DRIVE_PATH = os.path.join(\"drive\", \"My Drive\", GOOGLE_DRIVE_PATH_AFTER_MYDRIVE)\n",
        "print(os.listdir(GOOGLE_DRIVE_PATH))\n",
        "\n",
        "\n",
        "sys.path.append(GOOGLE_DRIVE_PATH)"
      ],
      "metadata": {
        "id": "qcYuKaNNUQmi",
        "colab": {
          "base_uri": "https://localhost:8080/"
        },
        "outputId": "0f051c4a-a9c0-47a0-e313-2ea965e36f75"
      },
      "execution_count": null,
      "outputs": [
        {
          "output_type": "stream",
          "name": "stdout",
          "text": [
            "['.ipynb_checkpoints', '__pycache__', 'single_image_super_resolution.py', 'helper.py', 'SISR', 'Single Image Super Resolution.ipynb']\n"
          ]
        }
      ]
    },
    {
      "cell_type": "code",
      "source": [
        "import os\n",
        "import time\n",
        "\n",
        "os.environ[\"TZ\"] = \"US/Eastern\"\n",
        "time.tzset()\n",
        "\n",
        "from single_image_super_resolution import hello_project\n",
        "from helper import hello_helper\n",
        "\n",
        "\n",
        "hello_project()\n",
        "hello_helper()\n",
        "\n",
        "two_stage_detector_path = os.path.join(GOOGLE_DRIVE_PATH, \"single_image_super_resolution.py\")\n",
        "two_stage_detector_edit_time = time.ctime(\n",
        "    os.path.getmtime(two_stage_detector_path)\n",
        ")\n",
        "print(\"single_image_super_resolution.py last edited on %s\" % two_stage_detector_edit_time)"
      ],
      "metadata": {
        "colab": {
          "base_uri": "https://localhost:8080/"
        },
        "id": "T9dRlfO3VdLD",
        "outputId": "320ae7ae-3b79-44a2-9f3d-8cf2be7db3f6"
      },
      "execution_count": null,
      "outputs": [
        {
          "output_type": "stream",
          "name": "stdout",
          "text": [
            "Welcome to Single Image Super Resolution!!\n",
            "Welcome from SuperResolve helper!!\n",
            "single_image_super_resolution.py last edited on Mon Aug 26 22:06:16 2024\n"
          ]
        }
      ]
    },
    {
      "cell_type": "markdown",
      "source": [
        "Important Libraries + Plotting"
      ],
      "metadata": {
        "id": "ngHZ45WgljHA"
      }
    },
    {
      "cell_type": "code",
      "source": [
        "import os\n",
        "import time\n",
        "\n",
        "import matplotlib.pyplot as plt\n",
        "import torch\n",
        "import torchvision\n",
        "\n",
        "%matplotlib inline\n",
        "\n",
        "from helper import *\n",
        "from SISR.utils import reset_seed\n",
        "from SISR.grad import rel_error\n",
        "\n",
        "# for plotting\n",
        "plt.rcParams[\"figure.figsize\"] = (10.0, 8.0)  # set default size of plots\n",
        "plt.rcParams[\"font.size\"] = 16\n",
        "plt.rcParams[\"image.interpolation\"] = \"nearest\"\n",
        "plt.rcParams[\"image.cmap\"] = \"gray\"\n",
        "\n",
        "# To download the dataset\n",
        "!pip install wget\n",
        "\n",
        "# for mAP evaluation\n",
        "!rm -rf mAP\n",
        "!git clone https://github.com/Cartucho/mAP.git\n",
        "!rm -rf mAP/input/*"
      ],
      "metadata": {
        "colab": {
          "base_uri": "https://localhost:8080/"
        },
        "id": "4MGSx9M-lqgv",
        "outputId": "2a9a6fff-6db1-42b8-c948-75b9d03c68fd"
      },
      "execution_count": null,
      "outputs": [
        {
          "output_type": "stream",
          "name": "stdout",
          "text": [
            "Collecting wget\n",
            "  Downloading wget-3.2.zip (10 kB)\n",
            "  Preparing metadata (setup.py) ... \u001b[?25l\u001b[?25hdone\n",
            "Building wheels for collected packages: wget\n",
            "  Building wheel for wget (setup.py) ... \u001b[?25l\u001b[?25hdone\n",
            "  Created wheel for wget: filename=wget-3.2-py3-none-any.whl size=9656 sha256=d28845035fd50c83a6712e5d3e23d0d2a9f9fdab10230ca62f99ea084108868f\n",
            "  Stored in directory: /root/.cache/pip/wheels/8b/f1/7f/5c94f0a7a505ca1c81cd1d9208ae2064675d97582078e6c769\n",
            "Successfully built wget\n",
            "Installing collected packages: wget\n",
            "Successfully installed wget-3.2\n",
            "Cloning into 'mAP'...\n",
            "remote: Enumerating objects: 908, done.\u001b[K\n",
            "remote: Counting objects: 100% (150/150), done.\u001b[K\n",
            "remote: Compressing objects: 100% (25/25), done.\u001b[K\n",
            "remote: Total 908 (delta 135), reused 125 (delta 125), pack-reused 758 (from 1)\u001b[K\n",
            "Receiving objects: 100% (908/908), 14.70 MiB | 15.90 MiB/s, done.\n",
            "Resolving deltas: 100% (329/329), done.\n"
          ]
        }
      ]
    },
    {
      "cell_type": "markdown",
      "source": [
        "**COCO DATASET**\n",
        "We will be using the coco Dataset for this training for super resolution. We will be training this dataset by creating low resolution and high resolution pairs for each image inout train set.\n",
        "As instructed we will be using Set 5 and Set 14 for teting and validatio purposes"
      ],
      "metadata": {
        "id": "iYyJgYrkJ1Ju"
      }
    },
    {
      "cell_type": "code",
      "source": [],
      "metadata": {
        "id": "VACZetWLluLf"
      },
      "execution_count": null,
      "outputs": []
    }
  ]
}